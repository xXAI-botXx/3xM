{
 "cells": [
  {
   "cell_type": "code",
   "execution_count": 1,
   "metadata": {},
   "outputs": [],
   "source": [
    "import os\n",
    "import numpy as np\n",
    "import cv2"
   ]
  },
  {
   "cell_type": "code",
   "execution_count": 2,
   "metadata": {},
   "outputs": [
    {
     "data": {
      "text/plain": [
       "['mask_0.png', 'raw_0.png']"
      ]
     },
     "execution_count": 2,
     "metadata": {},
     "output_type": "execute_result"
    }
   ],
   "source": [
    "os.listdir(\"../3xM/3xM_Dataset_0_1_1/cam_0\")"
   ]
  },
  {
   "cell_type": "code",
   "execution_count": 3,
   "metadata": {},
   "outputs": [
    {
     "data": {
      "text/plain": [
       "array([[[0, 0, 0],\n",
       "        [0, 0, 0],\n",
       "        [0, 0, 0],\n",
       "        ...,\n",
       "        [0, 0, 0],\n",
       "        [0, 0, 0],\n",
       "        [0, 0, 0]],\n",
       "\n",
       "       [[0, 0, 0],\n",
       "        [0, 0, 0],\n",
       "        [0, 0, 0],\n",
       "        ...,\n",
       "        [0, 0, 0],\n",
       "        [0, 0, 0],\n",
       "        [0, 0, 0]],\n",
       "\n",
       "       [[0, 0, 0],\n",
       "        [0, 0, 0],\n",
       "        [0, 0, 0],\n",
       "        ...,\n",
       "        [0, 0, 0],\n",
       "        [0, 0, 0],\n",
       "        [0, 0, 0]],\n",
       "\n",
       "       ...,\n",
       "\n",
       "       [[0, 0, 0],\n",
       "        [0, 0, 0],\n",
       "        [0, 0, 0],\n",
       "        ...,\n",
       "        [0, 0, 0],\n",
       "        [0, 0, 0],\n",
       "        [0, 0, 0]],\n",
       "\n",
       "       [[0, 0, 0],\n",
       "        [0, 0, 0],\n",
       "        [0, 0, 0],\n",
       "        ...,\n",
       "        [0, 0, 0],\n",
       "        [0, 0, 0],\n",
       "        [0, 0, 0]],\n",
       "\n",
       "       [[0, 0, 0],\n",
       "        [0, 0, 0],\n",
       "        [0, 0, 0],\n",
       "        ...,\n",
       "        [0, 0, 0],\n",
       "        [0, 0, 0],\n",
       "        [0, 0, 0]]], dtype=uint8)"
      ]
     },
     "execution_count": 3,
     "metadata": {},
     "output_type": "execute_result"
    }
   ],
   "source": [
    "img = cv2.imread(\"../3xM/3xM_Dataset_0_1_1/cam_0/mask_0.png\")\n",
    "img"
   ]
  },
  {
   "cell_type": "code",
   "execution_count": null,
   "metadata": {},
   "outputs": [],
   "source": [
    "img = cv2.imread(\"../3xM/3xM_Dataset_0_1_1/cam_0/raw_0.png\")\n",
    "img"
   ]
  },
  {
   "cell_type": "code",
   "execution_count": 9,
   "metadata": {},
   "outputs": [
    {
     "data": {
      "text/plain": [
       "UniqueCountsResult(values=array([ 0, 31, 61, 92], dtype=uint8), counts=array([6111959,  253034,  180162,   90365]))"
      ]
     },
     "execution_count": 9,
     "metadata": {},
     "output_type": "execute_result"
    }
   ],
   "source": [
    "np.unique_counts(img)"
   ]
  },
  {
   "cell_type": "code",
   "execution_count": 13,
   "metadata": {},
   "outputs": [
    {
     "data": {
      "text/plain": [
       "['result_2018-08-21-11-10-42.png',\n",
       " 'result_2018-08-21-11-20-37.png',\n",
       " 'result_2018-08-21-11-12-38.png',\n",
       " 'result_2018-08-21-11-11-22.png',\n",
       " 'result_2018-08-21-11-07-29.png',\n",
       " 'result_2018-08-21-11-23-11.png',\n",
       " 'result_2018-08-21-10-59-55.png',\n",
       " 'result_2018-08-21-11-19-19.png',\n",
       " 'result_2018-08-21-11-16-05.png',\n",
       " 'result_2018-08-21-11-15-28.png',\n",
       " 'result_2018-08-21-11-22-46.png',\n",
       " 'result_2018-08-21-11-11-59.png',\n",
       " 'result_2018-08-21-11-08-54.png',\n",
       " 'result_2018-08-21-11-04-41.png',\n",
       " 'result_2018-08-21-11-04-15.png',\n",
       " 'result_2018-08-21-11-23-54.png',\n",
       " 'result_2018-08-21-11-10-08.png',\n",
       " 'result_2018-08-21-11-21-24.png',\n",
       " 'result_2018-08-21-11-17-03.png',\n",
       " 'result_2018-08-21-11-18-28.png',\n",
       " 'result_2018-08-21-11-07-57.png']"
      ]
     },
     "execution_count": 13,
     "metadata": {},
     "output_type": "execute_result"
    }
   ],
   "source": [
    "os.listdir(\"../3xM-Test/OCID-dataset/ARID20/table/top/seq01/label\")"
   ]
  },
  {
   "cell_type": "code",
   "execution_count": 29,
   "metadata": {},
   "outputs": [
    {
     "data": {
      "text/plain": [
       "array([0, 1, 2], dtype=uint16)"
      ]
     },
     "execution_count": 29,
     "metadata": {},
     "output_type": "execute_result"
    }
   ],
   "source": [
    "img = cv2.imread(\"../3xM-Test/OCID-dataset/ARID20/table/top/seq01/label/result_2018-08-21-10-59-55.png\", cv2.IMREAD_UNCHANGED)\n",
    "np.unique(img)"
   ]
  },
  {
   "cell_type": "code",
   "execution_count": 24,
   "metadata": {},
   "outputs": [
    {
     "data": {
      "text/plain": [
       "array([ 0,  1,  2,  3,  4,  5,  6,  7,  8,  9, 10, 11, 12, 13, 14, 15, 16,\n",
       "       17, 18, 19, 20], dtype=uint8)"
      ]
     },
     "execution_count": 24,
     "metadata": {},
     "output_type": "execute_result"
    }
   ],
   "source": [
    "img_new = img.astype(np.uint8)\n",
    "np.unique(img_new)"
   ]
  },
  {
   "cell_type": "code",
   "execution_count": 22,
   "metadata": {},
   "outputs": [
    {
     "data": {
      "text/plain": [
       "array([[0, 0, 0, ..., 0, 0, 0],\n",
       "       [0, 0, 0, ..., 0, 0, 0],\n",
       "       [0, 0, 0, ..., 0, 0, 0],\n",
       "       ...,\n",
       "       [0, 0, 0, ..., 0, 0, 0],\n",
       "       [0, 0, 0, ..., 0, 0, 0],\n",
       "       [0, 0, 0, ..., 0, 0, 0]], dtype=uint16)"
      ]
     },
     "execution_count": 22,
     "metadata": {},
     "output_type": "execute_result"
    }
   ],
   "source": [
    "img"
   ]
  },
  {
   "cell_type": "code",
   "execution_count": 25,
   "metadata": {},
   "outputs": [
    {
     "data": {
      "text/plain": [
       "array([[[140, 135, 110],\n",
       "        [145, 139, 115],\n",
       "        [133, 138, 110],\n",
       "        ...,\n",
       "        [124, 127, 104],\n",
       "        [119, 126, 104],\n",
       "        [118, 125, 103]],\n",
       "\n",
       "       [[141, 134, 115],\n",
       "        [145, 138, 118],\n",
       "        [141, 137, 110],\n",
       "        ...,\n",
       "        [124, 118,  94],\n",
       "        [101, 119,  93],\n",
       "        [ 99, 117,  91]],\n",
       "\n",
       "       [[131, 133, 113],\n",
       "        [133, 136, 115],\n",
       "        [133, 136, 115],\n",
       "        ...,\n",
       "        [114, 113,  88],\n",
       "        [110, 111,  88],\n",
       "        [107, 108,  85]],\n",
       "\n",
       "       ...,\n",
       "\n",
       "       [[ 80,  77,  52],\n",
       "        [ 82,  79,  55],\n",
       "        [ 89,  78,  57],\n",
       "        ...,\n",
       "        [ 87,  72,  47],\n",
       "        [ 82,  73,  47],\n",
       "        [ 82,  73,  47]],\n",
       "\n",
       "       [[ 81,  78,  53],\n",
       "        [ 83,  80,  56],\n",
       "        [ 91,  81,  55],\n",
       "        ...,\n",
       "        [ 87,  72,  47],\n",
       "        [ 87,  72,  47],\n",
       "        [ 87,  72,  47]],\n",
       "\n",
       "       [[ 92,  81,  60],\n",
       "        [ 92,  81,  60],\n",
       "        [ 95,  83,  58],\n",
       "        ...,\n",
       "        [ 88,  73,  48],\n",
       "        [ 88,  73,  48],\n",
       "        [ 88,  73,  48]]], dtype=uint8)"
      ]
     },
     "execution_count": 25,
     "metadata": {},
     "output_type": "execute_result"
    }
   ],
   "source": [
    "img = cv2.imread(\"../3xM-Test/OCID-dataset/ARID20/table/top/seq01/rgb/result_2018-08-21-11-22-46.png\", cv2.IMREAD_UNCHANGED)\n",
    "img"
   ]
  }
 ],
 "metadata": {
  "kernelspec": {
   "display_name": "3xM",
   "language": "python",
   "name": "python3"
  },
  "language_info": {
   "codemirror_mode": {
    "name": "ipython",
    "version": 3
   },
   "file_extension": ".py",
   "mimetype": "text/x-python",
   "name": "python",
   "nbconvert_exporter": "python",
   "pygments_lexer": "ipython3",
   "version": "3.11.9"
  }
 },
 "nbformat": 4,
 "nbformat_minor": 2
}
